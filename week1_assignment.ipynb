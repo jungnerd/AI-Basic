{
 "cells": [
  {
   "cell_type": "code",
   "execution_count": 1,
   "metadata": {},
   "outputs": [
    {
     "name": "stdout",
     "output_type": "stream",
     "text": [
      "[1, 5, 7, 15, 29]\n"
     ]
    }
   ],
   "source": [
    "# Q1\n",
    "num_list = [1, 5, 7, 15, 16, 22, 28, 29]\n",
    "\n",
    "def get_odd_num(num_list):\n",
    "    odd_list = []\n",
    "    for x in num_list:\n",
    "        if x % 2 == 1:\n",
    "            odd_list.append(x)\n",
    "    return odd_list\n",
    "print(get_odd_num(num_list))"
   ]
  },
  {
   "cell_type": "code",
   "execution_count": 1,
   "metadata": {},
   "outputs": [
    {
     "name": "stdout",
     "output_type": "stream",
     "text": [
      "Where there is a will there is a way \n"
     ]
    }
   ],
   "source": [
    "# Q2\n",
    "sentence = \"way a is there will a is there Where\"\n",
    "\n",
    "def reverse_sentence(sentence):\n",
    "    sentence_list = sentence.split(\" \")\n",
    "    reversed_sentence = \"\"\n",
    "    for x in sentence_list:\n",
    "        reversed_sentence = x + \" \" + reversed_sentence\n",
    "    return reversed_sentence\n",
    "\n",
    "print(reverse_sentence(sentence))"
   ]
  },
  {
   "cell_type": "code",
   "execution_count": 3,
   "metadata": {},
   "outputs": [
    {
     "name": "stdout",
     "output_type": "stream",
     "text": [
      "1번, 평균: 100.0\n",
      "2번, 평균: 92.5\n",
      "3번, 평균: 57.5\n",
      "4번, 평균: 77.5\n",
      "5번, 평균: 70.0\n"
     ]
    }
   ],
   "source": [
    "# Q3\n",
    "score = [(100, 100), (95, 90), (55, 60), (75, 80), (70, 70)]\n",
    "\n",
    "def get_avg(score):\n",
    "    for i in range(len(score)):\n",
    "        sum = 0\n",
    "        for j in range(len(score[i])):\n",
    "            sum += score[i][j]\n",
    "        average = sum / len(score[i])\n",
    "        print(f\"{i+1}번, 평균: {average}\")\n",
    "        \n",
    "get_avg(score)"
   ]
  },
  {
   "cell_type": "code",
   "execution_count": 4,
   "metadata": {},
   "outputs": [
    {
     "name": "stdout",
     "output_type": "stream",
     "text": [
      "Counter({'사과': 35, '감': 35, '배': 30, '귤': 25, '포도': 10})\n"
     ]
    }
   ],
   "source": [
    "# Q4\n",
    "# 서로 다른 두 딕셔너리가 있을 때, 두 딕셔너리 키가 같으면 더하고 없으면 추가해야 하는 경우 collections.Counter를 이용할 수 있다.\n",
    "from collections import Counter\n",
    "\n",
    "dict_first = {'사과': 30, '배': 15, '감': 10, '포도': 10}\n",
    "dict_second = {'사과': 5, '감': 25, '배': 15, '귤': 25}\n",
    "\n",
    "def merge_dict(dict_first, dict_second):\n",
    "    dict_first = Counter(dict_first)\n",
    "    dict_second = Counter(dict_second)\n",
    "    merge = dict_first + dict_second\n",
    "    \n",
    "    return merge         \n",
    "print(merge_dict(dict_first, dict_second))"
   ]
  },
  {
   "cell_type": "code",
   "execution_count": 5,
   "metadata": {},
   "outputs": [
    {
     "name": "stdout",
     "output_type": "stream",
     "text": [
      "catdogcow\n"
     ]
    }
   ],
   "source": [
    "# Q5\n",
    "# 함수\n",
    "def find_string(inputs):\n",
    "    from string import digits\n",
    "    newinputs=str.maketrans('','', digits)\n",
    "    output = inputs.translate(newinputs)\n",
    "    return output\n",
    "# 출력 예시\n",
    "inputs = \"cat32dog16cow5\"\n",
    "string_list = find_string(inputs)\n",
    "print(string_list)"
   ]
  }
 ],
 "metadata": {
  "kernelspec": {
   "display_name": "Python 3.9.10 ('mnist')",
   "language": "python",
   "name": "python3"
  },
  "language_info": {
   "codemirror_mode": {
    "name": "ipython",
    "version": 3
   },
   "file_extension": ".py",
   "mimetype": "text/x-python",
   "name": "python",
   "nbconvert_exporter": "python",
   "pygments_lexer": "ipython3",
   "version": "3.9.13"
  },
  "orig_nbformat": 4,
  "vscode": {
   "interpreter": {
    "hash": "f37981aef1f00cd45e516b5d58f95251f21f74d2461252e0d4f94c0c9c4d0743"
   }
  }
 },
 "nbformat": 4,
 "nbformat_minor": 2
}
