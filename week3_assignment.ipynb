{
 "cells": [
  {
   "cell_type": "code",
   "execution_count": 1,
   "metadata": {},
   "outputs": [
    {
     "name": "stdout",
     "output_type": "stream",
     "text": [
      "[[0.68773927 1.28485763]\n",
      " [0.49065682 0.7359927 ]\n",
      " [0.95569228 1.67813683]\n",
      " [0.15628373 0.25984452]\n",
      " [0.66952203 1.06538815]] (5, 2)\n"
     ]
    }
   ],
   "source": [
    "# Q1\n",
    "import numpy as np\n",
    "\n",
    "arr1 = np.random.rand(5, 3)\n",
    "arr2 = np.random.rand(3, 2)\n",
    "\n",
    "dot = arr1.dot(arr2)\n",
    "\n",
    "print(dot, dot.shape)"
   ]
  },
  {
   "cell_type": "code",
   "execution_count": 2,
   "metadata": {},
   "outputs": [
    {
     "name": "stdout",
     "output_type": "stream",
     "text": [
      "[[ 5.  7.]\n",
      " [ 9. 11.]\n",
      " [ 2.  4.]\n",
      " [ 6.  8.]]\n",
      "[[ 5.  7.  2.  4.]\n",
      " [ 9. 11.  6.  8.]]\n"
     ]
    }
   ],
   "source": [
    "# Q2\n",
    "import numpy as np\n",
    "\n",
    "arr1 = np.array([[5, 7], [9, 11]], float) # 행렬 numpy\n",
    "arr2 = np.array([[2, 4], [6, 8]], float)\n",
    "\n",
    "concat_1 = np.concatenate((arr1, arr2), axis=0) # axis = 0, 행을 기준으로 \n",
    "concat_2 = np.concatenate((arr1, arr2), axis=1) # axis = 1, 열을 기준으로\n",
    "\n",
    "print(concat_1)\n",
    "print(concat_2) # 출력"
   ]
  },
  {
   "cell_type": "code",
   "execution_count": 3,
   "metadata": {},
   "outputs": [
    {
     "name": "stdout",
     "output_type": "stream",
     "text": [
      "[1. 2. 3. 4. 5. 6.] (6,)\n",
      "[10. 20. 30. 40. 50. 60.] (6,)\n"
     ]
    }
   ],
   "source": [
    "# Q3\n",
    "import numpy as np\n",
    "\n",
    "xy = np.array([[1., 2., 3., 4., 5., 6.,], [10., 20., 30., 40., 50., 60.,]])\n",
    "\n",
    "x_train = xy[0,]\n",
    "y_train = xy[1,] # 행과 열을 모두 가져올 때는 xy[행, 열]\n",
    "\n",
    "print(x_train, x_train.shape)\n",
    "print(y_train, y_train.shape)"
   ]
  },
  {
   "cell_type": "code",
   "execution_count": 4,
   "metadata": {},
   "outputs": [
    {
     "name": "stdout",
     "output_type": "stream",
     "text": [
      "[0.51067452] [0.00839729]\n"
     ]
    }
   ],
   "source": [
    "# Q4\n",
    "beta_gd = np.random.rand(1) \n",
    "bias = np.random.rand(1)\n",
    "\n",
    "print(beta_gd, bias)"
   ]
  },
  {
   "cell_type": "code",
   "execution_count": 6,
   "metadata": {},
   "outputs": [
    {
     "name": "stdout",
     "output_type": "stream",
     "text": [
      "Epoch(         0/1000)cost:114.656004,w:  0.298522,b:  0.172737\n",
      "Epoch(       100/1000)cost:  0.276523,w:  2.730418,b:  0.711969\n",
      "Epoch(       200/1000)cost:  0.096925,w:  2.830706,b:  0.707618\n",
      "Epoch(       300/1000)cost:  0.089861,w:  2.840292,b:  0.683077\n",
      "Epoch(       400/1000)cost:  0.083534,w:  2.846153,b:  0.658625\n",
      "Epoch(       500/1000)cost:  0.077653,w:  2.851672,b:  0.635019\n",
      "Epoch(       600/1000)cost:  0.072186,w:  2.856989,b:  0.612259\n",
      "Epoch(       700/1000)cost:  0.067104,w:  2.862115,b:  0.590313\n",
      "Epoch(       800/1000)cost:  0.062380,w:  2.867057,b:  0.569155\n",
      "Epoch(       900/1000)cost:  0.057988,w:  2.871822,b:  0.548755\n"
     ]
    }
   ],
   "source": [
    "# Q5\n",
    "import numpy as np\n",
    "\n",
    "xy = np.array([[1.,2.,3.,4.,5.,6.],\n",
    "               [3.,6.,9.,12.,15.,18.]])\n",
    "\n",
    "x_train=xy[0]\n",
    "y_train=xy[1]\n",
    "\n",
    "beta_gd=np.random.rand(1)\n",
    "bias=np.random.rand(1)\n",
    "\n",
    "learning_rate=0.001\n",
    "\n",
    "for i in range(1000):\n",
    "\tpred=(x_train*beta_gd)+bias\n",
    "\terror=((pred-y_train)**2).mean()\n",
    "\n",
    "\tgd_w=((pred-y_train)*2*x_train).mean()\n",
    "\tgd_b=((pred-y_train)*2).mean()\n",
    "\n",
    "\tbeta_gd -=learning_rate*gd_w\n",
    "\tbias -=learning_rate*gd_b\n",
    "\n",
    "\tif i % 100 == 0:\n",
    "\t\tprint('Epoch({:10d}/1000)cost:{:10f},w:{:10f},b:{:10f}'.format(i,error,beta_gd.item(),bias.item()))"
   ]
  }
 ],
 "metadata": {
  "kernelspec": {
   "display_name": "Python 3.9.13 ('mnist')",
   "language": "python",
   "name": "python3"
  },
  "language_info": {
   "codemirror_mode": {
    "name": "ipython",
    "version": 3
   },
   "file_extension": ".py",
   "mimetype": "text/x-python",
   "name": "python",
   "nbconvert_exporter": "python",
   "pygments_lexer": "ipython3",
   "version": "3.9.13"
  },
  "orig_nbformat": 4,
  "vscode": {
   "interpreter": {
    "hash": "f37981aef1f00cd45e516b5d58f95251f21f74d2461252e0d4f94c0c9c4d0743"
   }
  }
 },
 "nbformat": 4,
 "nbformat_minor": 2
}
