{
 "cells": [
  {
   "cell_type": "code",
   "execution_count": 2,
   "metadata": {},
   "outputs": [
    {
     "ename": "ModuleNotFoundError",
     "evalue": "No module named 'pandas'",
     "output_type": "error",
     "traceback": [
      "\u001b[0;31m---------------------------------------------------------------------------\u001b[0m",
      "\u001b[0;31mModuleNotFoundError\u001b[0m                       Traceback (most recent call last)",
      "\u001b[1;32m/Users/jungnerd/ML/AI_Basic/week4_assignment.ipynb 셀 1\u001b[0m in \u001b[0;36m<cell line: 3>\u001b[0;34m()\u001b[0m\n\u001b[1;32m      <a href='vscode-notebook-cell:/Users/jungnerd/ML/AI_Basic/week4_assignment.ipynb#W0sZmlsZQ%3D%3D?line=0'>1</a>\u001b[0m \u001b[39m# Q1\u001b[39;00m\n\u001b[1;32m      <a href='vscode-notebook-cell:/Users/jungnerd/ML/AI_Basic/week4_assignment.ipynb#W0sZmlsZQ%3D%3D?line=1'>2</a>\u001b[0m \u001b[39m# from pandas import Series\u001b[39;00m\n\u001b[0;32m----> <a href='vscode-notebook-cell:/Users/jungnerd/ML/AI_Basic/week4_assignment.ipynb#W0sZmlsZQ%3D%3D?line=2'>3</a>\u001b[0m \u001b[39mimport\u001b[39;00m \u001b[39mpandas\u001b[39;00m \u001b[39mas\u001b[39;00m \u001b[39mpd\u001b[39;00m\n\u001b[1;32m      <a href='vscode-notebook-cell:/Users/jungnerd/ML/AI_Basic/week4_assignment.ipynb#W0sZmlsZQ%3D%3D?line=4'>5</a>\u001b[0m idx \u001b[39m=\u001b[39m [\u001b[39m\"\u001b[39m\u001b[39mHDD\u001b[39m\u001b[39m\"\u001b[39m, \u001b[39m\"\u001b[39m\u001b[39mSSD\u001b[39m\u001b[39m\"\u001b[39m, \u001b[39m\"\u001b[39m\u001b[39mUSB\u001b[39m\u001b[39m\"\u001b[39m, \u001b[39m\"\u001b[39m\u001b[39mCLOUD\u001b[39m\u001b[39m\"\u001b[39m]\n\u001b[1;32m      <a href='vscode-notebook-cell:/Users/jungnerd/ML/AI_Basic/week4_assignment.ipynb#W0sZmlsZQ%3D%3D?line=5'>6</a>\u001b[0m data \u001b[39m=\u001b[39m [\u001b[39m19\u001b[39m, \u001b[39m11\u001b[39m, \u001b[39m5\u001b[39m, \u001b[39m97\u001b[39m]\n",
      "\u001b[0;31mModuleNotFoundError\u001b[0m: No module named 'pandas'"
     ]
    }
   ],
   "source": [
    "# Q1\n",
    "# from pandas import Series\n",
    "import pandas as pd\n",
    "\n",
    "idx = [\"HDD\", \"SSD\", \"USB\", \"CLOUD\"]\n",
    "data = [19, 11, 5, 97]\n",
    "\n",
    "# 위 데이터로 Series 구현\n",
    "series = pd.Series(index = idx, data = data)\n",
    "\n",
    "# 10이상 20이하를 가지는 데이터만 이용해 다시 series를 정의해보자.\n",
    "series = series[series >= 10][series <= 20]\n",
    "\n",
    "print(series)"
   ]
  },
  {
   "cell_type": "code",
   "execution_count": null,
   "metadata": {},
   "outputs": [],
   "source": [
    "# Q2\n",
    "from pandas import Series, DataFrame\n",
    "import pandas as pd\n",
    "import numpy as np\n",
    "\n",
    "data1 = {\n",
    "    'Name': ['cherry', 'mango', 'potato', 'onion'],\n",
    "    'Type': ['Fruit', 'Fruit', 'Vegetable', 'Vegetable'],\n",
    "    'Price': [100, 110, 60, 80]}\n",
    "data2 = {\n",
    "    'Name': ['pepper', 'carrot', 'banana', 'kiwi'],\n",
    "    'Type': ['Vegetable', 'Vegetable', 'Fruit', 'Fruit'],\n",
    "    'Price': [50, 70, 90, 120]\n",
    "}\n",
    "\n",
    "df1 = pd.DataFrame(data1)\n",
    "df2 = pd.DataFrame(data2)\n",
    "\n",
    "# df1, df2를 colums를 이용해 결합\n",
    "# ignore_index → 인덱스 재배열\n",
    "df3 = pd.concat([df1, df2], ignore_index = True)\n",
    "\n",
    "# Fruit와 Vegetable의 type에 따라 정렬하고, \n",
    "# 가격을 내림차순으로 정리\n",
    "df_fruit = df3.loc[df3['Type'] == 'Fruit'].sort_values(['Price'], ascending=False)\n",
    "df_veg = df3.loc[df3['Type'] == 'Vegetable'].sort_values(['Price'], ascending=False)\n",
    "\n",
    "# Fruit와 Vegetable 상위 2개\n",
    "df_fruit = df_fruit.iloc[:2]\n",
    "df_veg = df_veg.iloc[:2]\n",
    "\n",
    "# 가격의 합 계산\n",
    "total_fruit = df_fruit['Price'].sum()\n",
    "total_veg = df_veg['Price'].sum()\n",
    "\n",
    "# 가격 합 출력\n",
    "print(\"Sum of Top 2 Fruit Price: \", total_fruit)\n",
    "print(\"Sum of Top 2 Vegetable Price: \", total_veg)"
   ]
  },
  {
   "cell_type": "code",
   "execution_count": null,
   "metadata": {},
   "outputs": [],
   "source": [
    "# Q3\n",
    "import pandas as pd\n",
    "\n",
    "idx = ['Sue', 'Ryan', 'Jay', 'Jane', 'Anna']\n",
    "col = ['round_1', 'round_2', 'round_3', 'round_4', 'round_5']\n",
    "data = [\n",
    "        [55, 65, 60, 66, 57],\n",
    "        [64, 77, 71, 79, 67],\n",
    "        [88, 81, 79, 89, 77],\n",
    "        [45, 35, 30, 46, 47],\n",
    "        [91, 96, 90, 97, 99]]\n",
    "\n",
    "# 위 데이터를 이용해 DataFrame을 구성\n",
    "df = pd.DataFrame(index = idx, columns=col, data = data)\n",
    "\n",
    "# df에 새로운 column인 round_6의 데이터 추가\n",
    "col_round_6 = [11, 15, 13, 17, 19]\n",
    "df['round_6'] = col_round_6\n",
    "\n",
    "\n",
    "# 각 데이터의 mean, max, min 값을 구해 출력\n",
    "# df_mean = df.mean()\n",
    "# df_max = df.max()\n",
    "# df_min = df.min()\n",
    "print(df)\n",
    "print(df.describe().loc[['mean', 'max', 'min']])"
   ]
  },
  {
   "cell_type": "code",
   "execution_count": null,
   "metadata": {},
   "outputs": [],
   "source": [
    "# Q4\n",
    "import numpy as np\n",
    "import matplotlib.pyplot as plt\n",
    "\n",
    "x = np.arange(0., 5., 0.2)\n",
    "\n",
    "# 식 정의\n",
    "y = x\n",
    "y2 = x**2\n",
    "y3 = x**3\n",
    "\n",
    "#사용 마커 : red dashes, blue sqares, green triangles\n",
    "# line\n",
    "#   -: solid line style\n",
    "#   --: dashed line style\n",
    "#   -.: dash-dot line style\n",
    "#   :: dotted line style\n",
    "\n",
    "# marker\n",
    "#   o: circle marker\n",
    "#   v: triangle_down marker\n",
    "#   ^: triangle_up marker\n",
    "#   s: square marker 등등\n",
    "\n",
    "# format string 활용 → 마커, 라인스타일, 색상 한번에 지정 가능\n",
    "#   fmt = [marker][line][color] 형태\n",
    "plt.plot(x,y, 'r--')\n",
    "plt.plot(x,y2, 'sg')\n",
    "plt.plot(x,y3, '^b')\n",
    "plt.show()"
   ]
  },
  {
   "cell_type": "code",
   "execution_count": null,
   "metadata": {},
   "outputs": [],
   "source": [
    "# Q5\n",
    "import matplotlib.pyplot as plt\n",
    "\n",
    "names=['group_a','group_b','group_c']\n",
    "values=[1,10,100]\n",
    "\n",
    "plt.figure(figsize=(9,3))\n",
    "\n",
    "plt.subplot(131)\n",
    "plt.bar(names,values)\n",
    "\n",
    "plt.subplot(132)\n",
    "plt.scatter(names,values)\n",
    "\n",
    "plt.subplot(133)\n",
    "plt.plot(names,values)\n",
    "\n",
    "plt.suptitle('print examples')\n",
    "plt.show()"
   ]
  }
 ],
 "metadata": {
  "kernelspec": {
   "display_name": "Python 3.9.12 64-bit",
   "language": "python",
   "name": "python3"
  },
  "language_info": {
   "codemirror_mode": {
    "name": "ipython",
    "version": 3
   },
   "file_extension": ".py",
   "mimetype": "text/x-python",
   "name": "python",
   "nbconvert_exporter": "python",
   "pygments_lexer": "ipython3",
   "version": "3.9.12"
  },
  "orig_nbformat": 4,
  "vscode": {
   "interpreter": {
    "hash": "b0fa6594d8f4cbf19f97940f81e996739fb7646882a419484c72d19e05852a7e"
   }
  }
 },
 "nbformat": 4,
 "nbformat_minor": 2
}
