{
 "cells": [
  {
   "cell_type": "code",
   "execution_count": 3,
   "metadata": {},
   "outputs": [
    {
     "name": "stdout",
     "output_type": "stream",
     "text": [
      "62.5\n"
     ]
    }
   ],
   "source": [
    "# Q1\n",
    "# test score, mid : 50, final : 75\n",
    "# 점수 클래스 생성\n",
    "class Score(object):\n",
    "    def __init__(self, mid, final):\n",
    "    # private으로 선언\n",
    "        self.__mid = mid\n",
    "        self.__final = final\n",
    "\n",
    "# 중간고사 점수 저장\n",
    "    @property\n",
    "    def get_mid(self):\n",
    "        return self.__mid\n",
    "\n",
    "# 기말고사 점수 저장\n",
    "    @property\n",
    "    def get_final(self):\n",
    "        return self.__final\n",
    "\n",
    "\n",
    "# 출력함수\n",
    "score = Score(50, 75)\n",
    "print((score.get_mid + score.get_final) / 2)"
   ]
  },
  {
   "cell_type": "code",
   "execution_count": 1,
   "metadata": {},
   "outputs": [
    {
     "name": "stdout",
     "output_type": "stream",
     "text": [
      "gas 2 small\n"
     ]
    }
   ],
   "source": [
    "# Q2\n",
    "class Car:\n",
    "    def __init__(self, fuel : str, wheels : int):\n",
    "        self.fuel = fuel\n",
    "        self.wheels = wheels\n",
    "\n",
    "class Bike(Car):\n",
    "    def __init__(self, fuel: str, wheels: int, size : str):\n",
    "        super().__init__(fuel, wheels) #부모 객체 사용\n",
    "        self.size = size \n",
    "\n",
    "bike = Bike(\"gas\", 2, \"small\")\n",
    "print(bike.fuel, bike.wheels, bike.size)"
   ]
  },
  {
   "cell_type": "code",
   "execution_count": 2,
   "metadata": {},
   "outputs": [
    {
     "ename": "FileNotFoundError",
     "evalue": "[Errno 2] No such file or directory: '/content/drive/MyDrive/AI코칭스터디_미션/data-01-test-score.csv'",
     "output_type": "error",
     "traceback": [
      "\u001b[0;31m---------------------------------------------------------------------------\u001b[0m",
      "\u001b[0;31mFileNotFoundError\u001b[0m                         Traceback (most recent call last)",
      "\u001b[1;32m/Users/jungnerd/ML/AI_Basic/week2_assignment.ipynb 셀 3\u001b[0m in \u001b[0;36m<cell line: 9>\u001b[0;34m()\u001b[0m\n\u001b[1;32m      <a href='vscode-notebook-cell:/Users/jungnerd/ML/AI_Basic/week2_assignment.ipynb#W2sZmlsZQ%3D%3D?line=5'>6</a>\u001b[0m data \u001b[39m=\u001b[39m []\n\u001b[1;32m      <a href='vscode-notebook-cell:/Users/jungnerd/ML/AI_Basic/week2_assignment.ipynb#W2sZmlsZQ%3D%3D?line=7'>8</a>\u001b[0m \u001b[39m# csv파일 열기\u001b[39;00m\n\u001b[0;32m----> <a href='vscode-notebook-cell:/Users/jungnerd/ML/AI_Basic/week2_assignment.ipynb#W2sZmlsZQ%3D%3D?line=8'>9</a>\u001b[0m f \u001b[39m=\u001b[39m \u001b[39mopen\u001b[39;49m(file_path, \u001b[39m'\u001b[39;49m\u001b[39mr\u001b[39;49m\u001b[39m'\u001b[39;49m)\n\u001b[1;32m     <a href='vscode-notebook-cell:/Users/jungnerd/ML/AI_Basic/week2_assignment.ipynb#W2sZmlsZQ%3D%3D?line=9'>10</a>\u001b[0m reader \u001b[39m=\u001b[39m csv\u001b[39m.\u001b[39mreader(f)\n\u001b[1;32m     <a href='vscode-notebook-cell:/Users/jungnerd/ML/AI_Basic/week2_assignment.ipynb#W2sZmlsZQ%3D%3D?line=10'>11</a>\u001b[0m \u001b[39mfor\u001b[39;00m i \u001b[39min\u001b[39;00m reader:\n",
      "\u001b[0;31mFileNotFoundError\u001b[0m: [Errno 2] No such file or directory: '/content/drive/MyDrive/AI코칭스터디_미션/data-01-test-score.csv'"
     ]
    }
   ],
   "source": [
    "# Q3\n",
    "import csv\n",
    "\n",
    "# 파일 경로 설정\n",
    "file_path = './data-01-test-score.csv'\n",
    "\n",
    "# csv파일 열기\n",
    "def read_file(file_path):\n",
    "    data = [] #data 리스트 생성\n",
    "    f = open(file_path, 'r')\n",
    "    reader = csv.reader(f)\n",
    "    for i in reader:\n",
    "        data.append(i)\n",
    "    f.close()\n",
    "    return data\n",
    "\n",
    "print(read_file(file_path))"
   ]
  },
  {
   "cell_type": "code",
   "execution_count": 5,
   "metadata": {},
   "outputs": [
    {
     "ename": "FileNotFoundError",
     "evalue": "[Errno 2] No such file or directory: '/content/drive/MyDrive/AI코칭스터디_미션/data-01-test-score.csv'",
     "output_type": "error",
     "traceback": [
      "\u001b[0;31m---------------------------------------------------------------------------\u001b[0m",
      "\u001b[0;31mFileNotFoundError\u001b[0m                         Traceback (most recent call last)",
      "\u001b[1;32m/Users/jungnerd/ML/AI_Basic/week2_assignment.ipynb 셀 4\u001b[0m in \u001b[0;36m<cell line: 34>\u001b[0;34m()\u001b[0m\n\u001b[1;32m     <a href='vscode-notebook-cell:/Users/jungnerd/ML/AI_Basic/week2_assignment.ipynb#W3sZmlsZQ%3D%3D?line=28'>29</a>\u001b[0m             sum_data\u001b[39m.\u001b[39mappend(\u001b[39mself\u001b[39m\u001b[39m.\u001b[39mtotal)\n\u001b[1;32m     <a href='vscode-notebook-cell:/Users/jungnerd/ML/AI_Basic/week2_assignment.ipynb#W3sZmlsZQ%3D%3D?line=30'>31</a>\u001b[0m         \u001b[39mreturn\u001b[39;00m sum_data\n\u001b[0;32m---> <a href='vscode-notebook-cell:/Users/jungnerd/ML/AI_Basic/week2_assignment.ipynb#W3sZmlsZQ%3D%3D?line=33'>34</a>\u001b[0m read_csv \u001b[39m=\u001b[39m ReadCSV(file_path)\n\u001b[1;32m     <a href='vscode-notebook-cell:/Users/jungnerd/ML/AI_Basic/week2_assignment.ipynb#W3sZmlsZQ%3D%3D?line=34'>35</a>\u001b[0m \u001b[39mprint\u001b[39m(read_csv\u001b[39m.\u001b[39mread_file())\n\u001b[1;32m     <a href='vscode-notebook-cell:/Users/jungnerd/ML/AI_Basic/week2_assignment.ipynb#W3sZmlsZQ%3D%3D?line=35'>36</a>\u001b[0m \u001b[39mprint\u001b[39m(read_csv\u001b[39m.\u001b[39mmerge_list())\n",
      "\u001b[1;32m/Users/jungnerd/ML/AI_Basic/week2_assignment.ipynb 셀 4\u001b[0m in \u001b[0;36mReadCSV.__init__\u001b[0;34m(self, file_path)\u001b[0m\n\u001b[1;32m     <a href='vscode-notebook-cell:/Users/jungnerd/ML/AI_Basic/week2_assignment.ipynb#W3sZmlsZQ%3D%3D?line=9'>10</a>\u001b[0m \u001b[39mdef\u001b[39;00m \u001b[39m__init__\u001b[39m(\u001b[39mself\u001b[39m, file_path):\n\u001b[1;32m     <a href='vscode-notebook-cell:/Users/jungnerd/ML/AI_Basic/week2_assignment.ipynb#W3sZmlsZQ%3D%3D?line=10'>11</a>\u001b[0m     \u001b[39mself\u001b[39m\u001b[39m.\u001b[39mfile_path \u001b[39m=\u001b[39m file_path\n\u001b[0;32m---> <a href='vscode-notebook-cell:/Users/jungnerd/ML/AI_Basic/week2_assignment.ipynb#W3sZmlsZQ%3D%3D?line=11'>12</a>\u001b[0m     \u001b[39mself\u001b[39m\u001b[39m.\u001b[39mfile \u001b[39m=\u001b[39m \u001b[39mopen\u001b[39;49m(file_path, \u001b[39m'\u001b[39;49m\u001b[39mr\u001b[39;49m\u001b[39m'\u001b[39;49m)\n\u001b[1;32m     <a href='vscode-notebook-cell:/Users/jungnerd/ML/AI_Basic/week2_assignment.ipynb#W3sZmlsZQ%3D%3D?line=12'>13</a>\u001b[0m     \u001b[39mself\u001b[39m\u001b[39m.\u001b[39mtotal \u001b[39m=\u001b[39m \u001b[39m0\u001b[39m\n",
      "\u001b[0;31mFileNotFoundError\u001b[0m: [Errno 2] No such file or directory: '/content/drive/MyDrive/AI코칭스터디_미션/data-01-test-score.csv'"
     ]
    }
   ],
   "source": [
    "# Q4\n",
    "import csv\n",
    "\n",
    "# 파일 경로 설정\n",
    "file_path = '/content/drive/MyDrive/AI코칭스터디_미션/data-01-test-score.csv'\n",
    "data = list()\n",
    "sum_data = list()\n",
    "\n",
    "class ReadCSV(object):\n",
    "    def __init__(self, file_path):\n",
    "        self.file_path = file_path\n",
    "        self.file = open(file_path, 'r')\n",
    "        self.total = 0\n",
    "\n",
    "# 파일 읽어오기\n",
    "    def read_file(self):\n",
    "        reader = csv.reader(self.file)\n",
    "        for i in reader:\n",
    "            data.append(i)\n",
    "    \n",
    "        return data\n",
    "\n",
    "# 리스트 내 데이터 합\n",
    "    def merge_list(self):\n",
    "        for i in range(len(data)):\n",
    "            self.total = 0\n",
    "            for j in range(len(data[i])):\n",
    "                self.total += int(data[i][j])\n",
    "            sum_data.append(self.total)\n",
    "\n",
    "        return sum_data\n",
    "\n",
    "\n",
    "read_csv = ReadCSV(file_path)\n",
    "print(read_csv.read_file())\n",
    "print(read_csv.merge_list())"
   ]
  },
  {
   "cell_type": "code",
   "execution_count": 6,
   "metadata": {},
   "outputs": [
    {
     "ename": "FileNotFoundError",
     "evalue": "[Errno 2] No such file or directory: './data-01-test-score.csv'",
     "output_type": "error",
     "traceback": [
      "\u001b[0;31m---------------------------------------------------------------------------\u001b[0m",
      "\u001b[0;31mFileNotFoundError\u001b[0m                         Traceback (most recent call last)",
      "\u001b[1;32m/Users/jungnerd/ML/AI_Basic/week2_assignment.ipynb 셀 5\u001b[0m in \u001b[0;36m<cell line: 31>\u001b[0;34m()\u001b[0m\n\u001b[1;32m     <a href='vscode-notebook-cell:/Users/jungnerd/ML/AI_Basic/week2_assignment.ipynb#W4sZmlsZQ%3D%3D?line=27'>28</a>\u001b[0m         \u001b[39mreturn\u001b[39;00m merge_list\n\u001b[1;32m     <a href='vscode-notebook-cell:/Users/jungnerd/ML/AI_Basic/week2_assignment.ipynb#W4sZmlsZQ%3D%3D?line=29'>30</a>\u001b[0m read_csv \u001b[39m=\u001b[39m ReadCSV(file_path)\n\u001b[0;32m---> <a href='vscode-notebook-cell:/Users/jungnerd/ML/AI_Basic/week2_assignment.ipynb#W4sZmlsZQ%3D%3D?line=30'>31</a>\u001b[0m \u001b[39mprint\u001b[39m(read_csv\u001b[39m.\u001b[39;49mread_file())\n\u001b[1;32m     <a href='vscode-notebook-cell:/Users/jungnerd/ML/AI_Basic/week2_assignment.ipynb#W4sZmlsZQ%3D%3D?line=31'>32</a>\u001b[0m \u001b[39mprint\u001b[39m(read_csv\u001b[39m.\u001b[39mmerge_list())\n",
      "\u001b[1;32m/Users/jungnerd/ML/AI_Basic/week2_assignment.ipynb 셀 5\u001b[0m in \u001b[0;36mReadCSV.read_file\u001b[0;34m(self)\u001b[0m\n\u001b[1;32m     <a href='vscode-notebook-cell:/Users/jungnerd/ML/AI_Basic/week2_assignment.ipynb#W4sZmlsZQ%3D%3D?line=9'>10</a>\u001b[0m \u001b[39mdef\u001b[39;00m \u001b[39mread_file\u001b[39m(\u001b[39mself\u001b[39m):\n\u001b[0;32m---> <a href='vscode-notebook-cell:/Users/jungnerd/ML/AI_Basic/week2_assignment.ipynb#W4sZmlsZQ%3D%3D?line=10'>11</a>\u001b[0m     data \u001b[39m=\u001b[39m \u001b[39mopen\u001b[39;49m(file_path, \u001b[39m'\u001b[39;49m\u001b[39mr\u001b[39;49m\u001b[39m'\u001b[39;49m)\n\u001b[1;32m     <a href='vscode-notebook-cell:/Users/jungnerd/ML/AI_Basic/week2_assignment.ipynb#W4sZmlsZQ%3D%3D?line=11'>12</a>\u001b[0m     csv_file \u001b[39m=\u001b[39m csv\u001b[39m.\u001b[39mreader(data)\n\u001b[1;32m     <a href='vscode-notebook-cell:/Users/jungnerd/ML/AI_Basic/week2_assignment.ipynb#W4sZmlsZQ%3D%3D?line=12'>13</a>\u001b[0m     score_list \u001b[39m=\u001b[39m []\n",
      "\u001b[0;31mFileNotFoundError\u001b[0m: [Errno 2] No such file or directory: './data-01-test-score.csv'"
     ]
    }
   ],
   "source": [
    "# Q5\n",
    "import csv\n",
    "\n",
    "file_path = \"./data-01-test-score.csv\" #파일의 경로\n",
    "\n",
    "class ReadCSV:\n",
    "    def __init__(self, file_path):\n",
    "        self.file_path = file_path\n",
    "        \n",
    "    def read_file(self):\n",
    "        data = open(file_path, 'r')\n",
    "        csv_file = csv.reader(data)\n",
    "        score_list = []\n",
    "        for item in csv_file:\n",
    "            score_list.append(item)\n",
    "        return score_list\n",
    "\n",
    "    def merge_list(self):\n",
    "        merge_list = []\n",
    "        for list in self.read_file():\n",
    "            score_merged = 0\n",
    "            score_mean = 0\n",
    "            for score in list:\n",
    "                score_merged += int(score)\n",
    "            score_mean = score_merged / len(list) #리스트 별로 평균 구하기\n",
    "            merge_list.append(score_mean) #평균을 리스트에 삽입\n",
    "        merge_list.sort() #리스트를 오름차순으로 정렬\n",
    "        return merge_list\n",
    "\n",
    "read_csv = ReadCSV(file_path)\n",
    "print(read_csv.read_file())\n",
    "print(read_csv.merge_list())"
   ]
  },
  {
   "cell_type": "code",
   "execution_count": null,
   "metadata": {},
   "outputs": [],
   "source": []
  }
 ],
 "metadata": {
  "kernelspec": {
   "display_name": "Python 3.9.13 ('mnist')",
   "language": "python",
   "name": "python3"
  },
  "language_info": {
   "codemirror_mode": {
    "name": "ipython",
    "version": 3
   },
   "file_extension": ".py",
   "mimetype": "text/x-python",
   "name": "python",
   "nbconvert_exporter": "python",
   "pygments_lexer": "ipython3",
   "version": "3.9.13"
  },
  "orig_nbformat": 4,
  "vscode": {
   "interpreter": {
    "hash": "f37981aef1f00cd45e516b5d58f95251f21f74d2461252e0d4f94c0c9c4d0743"
   }
  }
 },
 "nbformat": 4,
 "nbformat_minor": 2
}
